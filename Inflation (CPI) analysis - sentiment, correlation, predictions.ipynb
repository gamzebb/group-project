{
 "cells": [
  {
   "cell_type": "code",
   "execution_count": 1,
   "id": "599df20f-676c-431b-8b4f-1f4296e24af3",
   "metadata": {},
   "outputs": [],
   "source": [
    "# Import libraries.\n",
    "import pandas as pd\n",
    "import numpy as np\n",
    "import os\n",
    "import matplotlib.pyplot as plt\n",
    "from datetime import datetime\n",
    "import seaborn as sns\n",
    "\n",
    "# need to find out how to use XGBoost\n",
    "\n",
    "import nltk\n",
    "nltk.download('punkt')\n",
    "nltk.download('stopwords')\n",
    "nltk.download('words')\n",
    "nltk.download('omw-1.4')\n",
    "from nltk.corpus import stopwords\n",
    "from nltk.corpus import words\n",
    "from nltk.tokenize import word_tokenize\n",
    "from nltk.probability import FreqDist"
   ]
  },
  {
   "cell_type": "code",
   "execution_count": null,
   "id": "42e31054-42e4-4eee-809c-5fe8d02b84fa",
   "metadata": {},
   "outputs": [],
   "source": [
    "url = 'https://github.com/gamzebb/group-project/raw/refs/heads/main/cleaned_economic_data/cpi.csv'\n",
    "df_monthly_cpi = pd.read_csv(url)  # Works similarly for CSV\n",
    "\n",
    "df_monthly_cpi"
   ]
  },
  {
   "cell_type": "code",
   "execution_count": null,
   "id": "8c42bf22-c1fb-405b-8fd9-e80d732a34a5",
   "metadata": {},
   "outputs": [],
   "source": [
    "url = 'https://github.com/gamzebb/group-project/raw/refs/heads/main/cleaned_economic_data/cpi.csv'\n",
    "df_uk = pd.read_csv(url)  # Works similarly for CSV\n",
    "\n",
    "df_monthly_cpi"
   ]
  }
 ],
 "metadata": {
  "kernelspec": {
   "display_name": "Python 3 (ipykernel)",
   "language": "python",
   "name": "python3"
  },
  "language_info": {
   "codemirror_mode": {
    "name": "ipython",
    "version": 3
   },
   "file_extension": ".py",
   "mimetype": "text/x-python",
   "name": "python",
   "nbconvert_exporter": "python",
   "pygments_lexer": "ipython3",
   "version": "3.12.3"
  }
 },
 "nbformat": 4,
 "nbformat_minor": 5
}
