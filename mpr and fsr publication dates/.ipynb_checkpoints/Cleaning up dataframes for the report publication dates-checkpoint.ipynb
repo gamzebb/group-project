{
 "cells": [
  {
   "cell_type": "code",
   "execution_count": null,
   "id": "7712b6c4-6139-49db-8ce0-fcd48b563a7f",
   "metadata": {},
   "outputs": [],
   "source": [
    "import pandas as pd\n",
    "\n",
    "# Load the uploaded Excel files\n",
    "\n",
    "url = 'https://github.com/gamzebb/group-project/raw/refs/heads/main/merged_sentiment_copy.csv'\n",
    "df_uk_full = pd.read_csv(url)  \n",
    "\n",
    "df_uk_full\n",
    "\n",
    "url1=  'https://github.com/gamzebb/group-project/raw/refs/heads/main/merged_sentiment_copy.csv'\n",
    "monetary_policy_df = pd.read_excel(\"/mnt/data/Monetary Policy Reports - publication dates.xlsx\")\n",
    "financial_stability_df = pd.read_excel(\"/mnt/data/Financial Stability Reports - publication dates.xlsx\")\n",
    "\n",
    "monetary_policy_df.head(), financial_stability_df.head()"
   ]
  }
 ],
 "metadata": {
  "kernelspec": {
   "display_name": "Python 3 (ipykernel)",
   "language": "python",
   "name": "python3"
  },
  "language_info": {
   "codemirror_mode": {
    "name": "ipython",
    "version": 3
   },
   "file_extension": ".py",
   "mimetype": "text/x-python",
   "name": "python",
   "nbconvert_exporter": "python",
   "pygments_lexer": "ipython3",
   "version": "3.12.3"
  }
 },
 "nbformat": 4,
 "nbformat_minor": 5
}
