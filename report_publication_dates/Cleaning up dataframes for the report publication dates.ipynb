{
 "cells": [
  {
   "cell_type": "code",
   "execution_count": 35,
   "id": "7712b6c4-6139-49db-8ce0-fcd48b563a7f",
   "metadata": {},
   "outputs": [
    {
     "data": {
      "text/plain": [
       "(   Year         Q1         Q2         Q3         Q4\n",
       " 0  1997 1997-02-01 1997-05-01 1997-08-01 1997-11-01\n",
       " 1  1998 1998-02-01 1998-05-01 1998-08-01 1998-11-01\n",
       " 2  1999 1999-02-01 1999-05-01 1999-08-01 1999-11-01\n",
       " 3  2000 2000-02-01 2000-05-01 2000-08-01 2000-11-01\n",
       " 4  2001 2001-02-01 2001-05-01 2001-08-01 2001-11-01,\n",
       "             1997-03-01\n",
       " 0  1997-10-01 00:00:00\n",
       " 1  1998-05-01 00:00:00\n",
       " 2  1998-11-01 00:00:00\n",
       " 3  1999-06-01 00:00:00\n",
       " 4  1999-11-01 00:00:00)"
      ]
     },
     "execution_count": 35,
     "metadata": {},
     "output_type": "execute_result"
    }
   ],
   "source": [
    "import pandas as pd\n",
    "\n",
    "# Load the uploaded Excel files\n",
    "url1=  'https://github.com/gamzebb/group-project/raw/refs/heads/main/report_publication_dates/MPR_dates.xlsx'\n",
    "monetary_policy_df = pd.read_excel(url1)\n",
    "\n",
    "url2= 'https://github.com/gamzebb/group-project/raw/refs/heads/main/report_publication_dates/FSR_dates.xlsx'\n",
    "financial_stability_df = pd.read_excel(url2)\n",
    "\n",
    "monetary_policy_df.head(), financial_stability_df.head()"
   ]
  },
  {
   "cell_type": "code",
   "execution_count": 36,
   "id": "d69691b2-ed9f-4dca-a532-9f8fbb56d4c0",
   "metadata": {},
   "outputs": [
    {
     "data": {
      "text/plain": [
       "(        date\n",
       " 0 1998-11-01\n",
       " 1 1999-02-01\n",
       " 2 1999-05-01\n",
       " 3 1999-08-01\n",
       " 4 1999-11-01,\n",
       "         date\n",
       " 0 1998-11-01\n",
       " 1 1999-06-01\n",
       " 2 1999-11-01\n",
       " 3 2000-06-01\n",
       " 4 2000-12-01)"
      ]
     },
     "execution_count": 36,
     "metadata": {},
     "output_type": "execute_result"
    }
   ],
   "source": [
    "# Process Monetary Policy Report dates\n",
    "monetary_policy_dates = pd.melt(monetary_policy_df, id_vars=['Year'], value_vars=['Q1', 'Q2', 'Q3', 'Q4'])\n",
    "monetary_policy_dates = pd.to_datetime(monetary_policy_dates['value'], errors='coerce')\n",
    "monetary_policy_dates = monetary_policy_dates.dropna()\n",
    "monetary_policy_dates = monetary_policy_dates[monetary_policy_dates >= pd.to_datetime('1998-09-01')]\n",
    "\n",
    "# Process Financial Stability Report dates\n",
    "# Flatten the entire DataFrame to one list, parse dates, and clean\n",
    "flat_fsr_dates = pd.to_datetime(financial_stability_df.stack(), errors='coerce')\n",
    "flat_fsr_dates = flat_fsr_dates.dropna()\n",
    "flat_fsr_dates = flat_fsr_dates[flat_fsr_dates >= pd.to_datetime('1998-09-01')]\n",
    "\n",
    "# Create cleaned DataFrames\n",
    "mpr_dates_cleaned = pd.DataFrame({'date': monetary_policy_dates.sort_values().reset_index(drop=True)})\n",
    "fsr_dates_cleaned = pd.DataFrame({'date': flat_fsr_dates.sort_values().reset_index(drop=True)})\n",
    "\n",
    "mpr_dates_cleaned.to_csv(\"mpr_dates_cleaned.csv\", index=False)\n",
    "fsr_dates_cleaned.to_csv(\"fsr_dates_cleaned.csv\", index=False)\n",
    "\n",
    "mpr_dates_cleaned.head(), fsr_dates_cleaned.head()"
   ]
  },
  {
   "cell_type": "code",
   "execution_count": null,
   "id": "13f92bf6-4f5e-4d39-96c5-000b120e23fb",
   "metadata": {},
   "outputs": [],
   "source": []
  }
 ],
 "metadata": {
  "kernelspec": {
   "display_name": "Python 3 (ipykernel)",
   "language": "python",
   "name": "python3"
  },
  "language_info": {
   "codemirror_mode": {
    "name": "ipython",
    "version": 3
   },
   "file_extension": ".py",
   "mimetype": "text/x-python",
   "name": "python",
   "nbconvert_exporter": "python",
   "pygments_lexer": "ipython3",
   "version": "3.12.3"
  }
 },
 "nbformat": 4,
 "nbformat_minor": 5
}
